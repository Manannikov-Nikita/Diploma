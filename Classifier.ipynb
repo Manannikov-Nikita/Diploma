{
 "cells": [
  {
   "cell_type": "code",
   "execution_count": 77,
   "metadata": {},
   "outputs": [],
   "source": [
    "from sklearn.feature_extraction.text import TfidfVectorizer\n",
    "from sklearn.ensemble import RandomForestClassifier\n",
    "from sklearn.pipeline import Pipeline\n",
    "from os import listdir\n",
    "import glob\n"
   ]
  },
  {
   "cell_type": "code",
   "execution_count": 78,
   "metadata": {},
   "outputs": [],
   "source": [
    "#Создаем класс с двумя параметрами(текстом и категорией)\n",
    "\n",
    "class Text:\n",
    "    \n",
    "    text = ''\n",
    "    category = ''\n",
    "    \n",
    "    def __init__(self, text, category):\n",
    "        self.text = text\n",
    "        self.category = category\n"
   ]
  },
  {
   "cell_type": "code",
   "execution_count": 109,
   "metadata": {},
   "outputs": [],
   "source": [
    "#Указываем директорию и получаем список всех ее файлов\n",
    "\n",
    "all_files = glob.glob('D:/Repo/Diploma/Data/Test/*.txt')\n",
    "\n",
    "#Инициализируем список, в котором будут храниться все объекты класса текст.\n",
    "classes_list = []\n",
    "texts = []\n",
    "\n",
    "\n",
    "#Проходимся по списку путей, открываем каждый файл для чтения\n",
    "for file in all_files:\n",
    "    opened_file = open(file,'r')\n",
    "    #Для каждого открытого файла инициализируем объект класса Text, в переменную text кладем \n",
    "    #текст документа, а в переменную category - ЗАГЛУШКУ\n",
    "    classes_list.append(Text(opened_file.read(),'category'))\n",
    "    \n",
    "for text in classes_list:\n",
    "    texts.append(text.text)\n"
   ]
  },
  {
   "cell_type": "code",
   "execution_count": 110,
   "metadata": {},
   "outputs": [
    {
     "name": "stdout",
     "output_type": "stream",
     "text": [
      "[1]\n"
     ]
    },
    {
     "name": "stderr",
     "output_type": "stream",
     "text": [
      "E:\\Code\\Anaconda\\lib\\site-packages\\sklearn\\ensemble\\forest.py:245: FutureWarning: The default value of n_estimators will change from 10 in version 0.20 to 100 in 0.22.\n",
      "  \"10 in version 0.20 to 100 in 0.22.\", FutureWarning)\n"
     ]
    }
   ],
   "source": [
    "texts_labels = [1,2,3]\n",
    "\n",
    "text_clf = Pipeline([\n",
    "    ('tfidf',TfidfVectorizer()),\n",
    "    ('clf', RandomForestClassifier())\n",
    "])\n",
    "\n",
    "text_clf.fit(texts, texts_labels)\n",
    "\n",
    "result = text_clf.predict(['Большинство бодибилдеров боятся ограничения калорийности рациона в период межсезонья, ведь это может отрицательно повлиять на мышечный рост, и к следующему фитнес-шоу спортсмен не сможет подойти во всеоружии. Но на самом деле, если вы сможете оставаться стройным во время межсезонья, вы сможете подняться на сцену и более рельефным, и более мускулистым. Спросите, почему? Еще один секрет в том, что когда вы ненадолго снижаете калорийность рациона, вы стимулируете дополнительный выброс анаболических гормонов, в частности, тестостерона и соматотропина.Поскольку доля углеводов в рационе уменьшается незначительно и на непродолжительное время, чувствительность тканей к инсулину остается высокой. Это значит, что во время '])\n",
    "print(result)"
   ]
  },
  {
   "cell_type": "code",
   "execution_count": null,
   "metadata": {},
   "outputs": [],
   "source": []
  },
  {
   "cell_type": "code",
   "execution_count": null,
   "metadata": {},
   "outputs": [],
   "source": []
  }
 ],
 "metadata": {
  "kernelspec": {
   "display_name": "Python 3",
   "language": "python",
   "name": "python3"
  },
  "language_info": {
   "codemirror_mode": {
    "name": "ipython",
    "version": 3
   },
   "file_extension": ".py",
   "mimetype": "text/x-python",
   "name": "python",
   "nbconvert_exporter": "python",
   "pygments_lexer": "ipython3",
   "version": "3.7.4"
  }
 },
 "nbformat": 4,
 "nbformat_minor": 2
}

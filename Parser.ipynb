{
 "cells": [
  {
   "cell_type": "code",
   "execution_count": 6,
   "metadata": {},
   "outputs": [],
   "source": [
    "from bs4 import BeautifulSoup\n",
    "import requests"
   ]
  },
  {
   "cell_type": "code",
   "execution_count": 9,
   "metadata": {},
   "outputs": [],
   "source": [
    "class SoaupParser(object):\n",
    "    \n",
    "    def test_url(url):\n",
    "        page = requests.get(url)\n",
    "        print(page.status_code)\n",
    "        \n",
    "    def parse_url(url):\n",
    "        headers = []\n",
    "        page = requests.get(url)\n",
    "        soup = BeautifulSoup(page.text, 'html5lib')\n",
    "        headers = soup.findAll('h2', class_='specified-title')\n",
    "        return headers"
   ]
  },
  {
   "cell_type": "code",
   "execution_count": 11,
   "metadata": {},
   "outputs": [],
   "source": [
    "headers2 = SoaupParser.parse_url('https://zen.yandex.ru/')"
   ]
  },
  {
   "cell_type": "code",
   "execution_count": 12,
   "metadata": {},
   "outputs": [
    {
     "name": "stdout",
     "output_type": "stream",
     "text": [
      "[<h2 class=\"specified-title clamp__visible-tokens\" itemprop=\"headline\">В \"Дачном ответе\" нарисовали камин и двери маркером, хозяйка чуть не заплакала от горя</h2>, <h2 class=\"specified-title clamp__visible-tokens\" itemprop=\"headline\">Пришла в стоковый магазин одежды, чтобы выбрать наряд на день рождения. Одела меня полностью консультант. Показываю,…</h2>, <h2 class=\"specified-title clamp__visible-tokens\" itemprop=\"headline\">Почему «Черный квадрат» Малевича – произведение искусства</h2>, <h2 class=\"specified-title clamp__visible-tokens\" itemprop=\"headline\">Тест на грамотность: сколько ошибок вы допустите?</h2>]\n"
     ]
    }
   ],
   "source": [
    "print(headers2)"
   ]
  },
  {
   "cell_type": "code",
   "execution_count": null,
   "metadata": {},
   "outputs": [],
   "source": []
  }
 ],
 "metadata": {
  "kernelspec": {
   "display_name": "Python 3",
   "language": "python",
   "name": "python3"
  },
  "language_info": {
   "codemirror_mode": {
    "name": "ipython",
    "version": 3
   },
   "file_extension": ".py",
   "mimetype": "text/x-python",
   "name": "python",
   "nbconvert_exporter": "python",
   "pygments_lexer": "ipython3",
   "version": "3.7.4"
  }
 },
 "nbformat": 4,
 "nbformat_minor": 2
}

{
 "cells": [
  {
   "cell_type": "markdown",
   "metadata": {},
   "source": [
    "# Мананников Н.Д."
   ]
  },
  {
   "cell_type": "markdown",
   "metadata": {},
   "source": [
    "## Импорт библиотек для работы бота с API Вконтакте"
   ]
  },
  {
   "cell_type": "code",
   "execution_count": 1,
   "metadata": {},
   "outputs": [],
   "source": [
    "import vk_api\n",
    "import random\n",
    "import requests\n",
    "from datetime import datetime\n",
    "from vk_api.longpoll import VkLongPoll, VkEventType\n",
    "from vk_api.keyboard import VkKeyboard, VkKeyboardColor"
   ]
  },
  {
   "cell_type": "markdown",
   "metadata": {},
   "source": [
    "## Импорт библиотек для визуализации Облака Слова"
   ]
  },
  {
   "cell_type": "code",
   "execution_count": 2,
   "metadata": {},
   "outputs": [],
   "source": [
    "import numpy as np # linear algebra\n",
    "import pandas as pd \n",
    "import matplotlib as mpl\n",
    "import matplotlib.pyplot as plt\n",
    "%matplotlib inline\n",
    "\n",
    "from subprocess import check_output\n",
    "from wordcloud import WordCloud"
   ]
  },
  {
   "cell_type": "markdown",
   "metadata": {},
   "source": [
    "## Импорт библиотек для процесса обучения модели и классификации"
   ]
  },
  {
   "cell_type": "code",
   "execution_count": 3,
   "metadata": {},
   "outputs": [],
   "source": [
    "from sklearn.feature_extraction.text import TfidfVectorizer\n",
    "from sklearn.ensemble import RandomForestClassifier\n",
    "from sklearn.pipeline import Pipeline\n",
    "from pymorphy2 import MorphAnalyzer\n",
    "from sklearn.tree import export_graphviz\n",
    "\n",
    "import glob\n",
    "import re\n",
    "import warnings\n",
    "import pandas\n",
    "\n",
    "warnings.simplefilter(action='ignore', category=FutureWarning)"
   ]
  },
  {
   "cell_type": "markdown",
   "metadata": {},
   "source": [
    "## Объявление переменных необходимх для работы с API"
   ]
  },
  {
   "cell_type": "code",
   "execution_count": 4,
   "metadata": {},
   "outputs": [],
   "source": [
    "api_key = open('api_key.txt', mode='r')\n",
    "f = api_key.read()"
   ]
  },
  {
   "cell_type": "code",
   "execution_count": 5,
   "metadata": {},
   "outputs": [],
   "source": [
    "vk_session = vk_api.VkApi(token=f)\n",
    "\n",
    "longPoll = VkLongPoll(vk_session)\n",
    "vk = vk_session.get_api()"
   ]
  },
  {
   "cell_type": "markdown",
   "metadata": {},
   "source": [
    "## Объявление переменных для классификатора"
   ]
  },
  {
   "cell_type": "code",
   "execution_count": 6,
   "metadata": {},
   "outputs": [],
   "source": [
    "classes_list = []\n",
    "proccesed_texts = []\n",
    "texts = []\n",
    "results = [0,0,0]\n",
    "m = MorphAnalyzer()\n",
    "regex = re.compile(\"[А-Яа-я]+\")"
   ]
  },
  {
   "cell_type": "markdown",
   "metadata": {},
   "source": [
    "### Корпус стоп-слов"
   ]
  },
  {
   "cell_type": "code",
   "execution_count": 7,
   "metadata": {},
   "outputs": [],
   "source": [
    "stopwords = ['и', 'в', 'во', 'не', 'что', 'он', 'на', 'я', 'с', 'со', 'как', 'а', 'то', 'все', 'она', 'так',\n",
    "              'его', 'но', 'да', 'ты', 'к', 'у', 'же', 'вы', 'за', 'бы', 'по', 'только', 'ее', 'мне', 'было', \n",
    "              'вот', 'от', 'меня', 'еще', 'нет', 'о', 'из', 'ему', 'теперь', 'когда', 'даже', 'ну', 'вдруг', \n",
    "              'ли', 'если', 'уже', 'или', 'ни', 'быть', 'был', 'него', 'до', 'вас', 'нибудь', 'опять', 'уж',\n",
    "              'вам', 'ведь', 'там', 'потом', 'себя', 'ничего', 'ей', 'может', 'они', 'тут', 'где', 'есть', \n",
    "              'надо', 'ней', 'для', 'мы', 'тебя', 'их', 'чем', 'была', 'сам', 'чтоб', 'без', 'будто', 'чего',\n",
    "              'раз', 'тоже', 'себе', 'под', 'будет', 'ж', 'тогда', 'кто', 'этот', 'того', 'потому', 'этого',\n",
    "              'какой', 'совсем', 'ним', 'здесь', 'этом', 'один', 'почти', 'мой', 'тем', 'чтобы', 'нее', 'сейчас',\n",
    "              'были', 'куда', 'зачем', 'всех', 'никогда', 'можно', 'при', 'наконец', 'два', 'об', 'другой', 'хоть',\n",
    "              'после', 'над', 'больше', 'тот', 'через', 'эти', 'нас', 'про', 'всего', 'них', 'какая', 'много',\n",
    "              'разве', 'три', 'эту', 'моя', 'впрочем', 'хорошо', 'свою', 'этой', 'перед', 'иногда', 'лучше', \n",
    "              'чуть', 'том', 'нельзя', 'такой', 'им', 'более', 'всегда', 'конечно', 'всю', 'между']"
   ]
  },
  {
   "cell_type": "markdown",
   "metadata": {},
   "source": [
    "## Создание классов для работы с текстами"
   ]
  },
  {
   "cell_type": "code",
   "execution_count": 8,
   "metadata": {},
   "outputs": [],
   "source": [
    "class Text:\n",
    "    \n",
    "    text = ''\n",
    "    journal = ''\n",
    "    \n",
    "    def __init__(self, text, journal):\n",
    "        self.text = text\n",
    "        self.journal = journal"
   ]
  },
  {
   "cell_type": "code",
   "execution_count": 9,
   "metadata": {},
   "outputs": [],
   "source": [
    "class Text_proccesor:\n",
    "    \n",
    "    proccesed_text = ''\n",
    "    \n",
    "    def tokenize(text, regex=regex):\n",
    "        proccesed_text = \" \".join(regex.findall(text))\n",
    "        proccesed_text = proccesed_text.lower()\n",
    "        return(proccesed_text)\n",
    "\n",
    "    \n",
    "    def lemmatize(text):\n",
    "        proccesed_text = [m.parse(word)[0].normal_form for word in text.split()]\n",
    "        return(proccesed_text)\n",
    "    \n",
    "    def stopwords_remove(text):\n",
    "        proccesed_text = ' '.join([token for token in text.split() if not token in stopwords])\n",
    "        return(proccesed_text) "
   ]
  },
  {
   "cell_type": "markdown",
   "metadata": {},
   "source": [
    "### Функция создания интерфейса клавиатуры для бота ВКонтакте"
   ]
  },
  {
   "cell_type": "code",
   "execution_count": 10,
   "metadata": {},
   "outputs": [],
   "source": [
    "def create_keyboard(response):\n",
    "    if response == 'начать':\n",
    "        keyboard = VkKeyboard(one_time=False)\n",
    "\n",
    "        keyboard.add_button('Отправить статью', color=VkKeyboardColor.POSITIVE)\n",
    "        keyboard.add_line()\n",
    "        keyboard.add_button('Список команд', color=VkKeyboardColor.DEFAULT)\n",
    "        keyboard.add_button('Инфо', color=VkKeyboardColor.DEFAULT)\n",
    "\n",
    "        keyboard = keyboard.get_keyboard()\n",
    "        return keyboard"
   ]
  },
  {
   "cell_type": "markdown",
   "metadata": {},
   "source": [
    "### Функция для генерации Облака Слов"
   ]
  },
  {
   "cell_type": "code",
   "execution_count": 11,
   "metadata": {},
   "outputs": [],
   "source": [
    "def wordcloud_gen(text):\n",
    "    #mpl.rcParams['figure.figsize']=(8.0,6.0)    #(6.0,4.0)\n",
    "    mpl.rcParams['font.size']=120                #10 \n",
    "    mpl.rcParams['savefig.dpi']=1000             #72 \n",
    "    mpl.rcParams['figure.subplot.bottom']=.1 \n",
    "\n",
    "\n",
    "    data = text\n",
    "\n",
    "    wordcloud = WordCloud(\n",
    "                              background_color='white',\n",
    "                              max_words=40,\n",
    "                              max_font_size=40, \n",
    "                              random_state=42\n",
    "                             ).generate(str(data))\n",
    "\n",
    "    print(wordcloud)\n",
    "    fig = plt.figure(1)\n",
    "    plt.imshow(wordcloud)\n",
    "    plt.axis('off')\n",
    "    plt.show()\n",
    "    fig.savefig(\"word1.png\", dpi=900)"
   ]
  },
  {
   "cell_type": "markdown",
   "metadata": {},
   "source": [
    "## Обучение модели"
   ]
  },
  {
   "cell_type": "markdown",
   "metadata": {},
   "source": [
    "### Получение обучающего корпуса из файлов."
   ]
  },
  {
   "cell_type": "code",
   "execution_count": 12,
   "metadata": {},
   "outputs": [],
   "source": [
    "#Указываем директорию и получаем список всех ее файлов\n",
    "all_files = glob.glob('D:/Repo/Diploma/Data/Test/*.txt')\n",
    "\n",
    "#Проходимся по списку путей, открываем каждый файл для чтения\n",
    "for file in all_files:\n",
    "    opened_file = open(file,'r')\n",
    "    journal = next(opened_file)\n",
    "    text = opened_file.read()\n",
    "    #Для каждого открытого файла инициализируем объект класса Text, в переменную text кладем \n",
    "    #текст документа, а в переменную category - ЗАГЛУШКУ\n",
    "    classes_list.append(Text(text,journal))"
   ]
  },
  {
   "cell_type": "markdown",
   "metadata": {},
   "source": [
    "### Очистка обучающих данных"
   ]
  },
  {
   "cell_type": "code",
   "execution_count": 13,
   "metadata": {},
   "outputs": [],
   "source": [
    "for text in classes_list:\n",
    "    tokenized_text = Text_proccesor.tokenize(text.text)\n",
    "    no_stopwords = Text_proccesor.stopwords_remove(tokenized_text)\n",
    "    proccesed_texts.append(' '.join(Text_proccesor.lemmatize(no_stopwords)))"
   ]
  },
  {
   "cell_type": "markdown",
   "metadata": {},
   "source": [
    "### Непосредственное обучение модели"
   ]
  },
  {
   "cell_type": "code",
   "execution_count": 14,
   "metadata": {},
   "outputs": [
    {
     "data": {
      "text/plain": [
       "Pipeline(memory=None,\n",
       "         steps=[('tfidf',\n",
       "                 TfidfVectorizer(analyzer='word', binary=False,\n",
       "                                 decode_error='strict',\n",
       "                                 dtype=<class 'numpy.float64'>,\n",
       "                                 encoding='utf-8', input='content',\n",
       "                                 lowercase=True, max_df=1.0, max_features=None,\n",
       "                                 min_df=1, ngram_range=(1, 1), norm='l2',\n",
       "                                 preprocessor=None, smooth_idf=True,\n",
       "                                 stop_words=None, strip_accents=None,\n",
       "                                 sublinear_tf=False,\n",
       "                                 token_pattern='...\n",
       "                 RandomForestClassifier(bootstrap=True, ccp_alpha=0.0,\n",
       "                                        class_weight=None, criterion='gini',\n",
       "                                        max_depth=None, max_features='auto',\n",
       "                                        max_leaf_nodes=None, max_samples=None,\n",
       "                                        min_impurity_decrease=0.0,\n",
       "                                        min_impurity_split=None,\n",
       "                                        min_samples_leaf=1, min_samples_split=2,\n",
       "                                        min_weight_fraction_leaf=0.0,\n",
       "                                        n_estimators=10, n_jobs=None,\n",
       "                                        oob_score=False, random_state=None,\n",
       "                                        verbose=0, warm_start=False))],\n",
       "         verbose=False)"
      ]
     },
     "execution_count": 14,
     "metadata": {},
     "output_type": "execute_result"
    }
   ],
   "source": [
    "#Переносим тексты из объектов класса Text в список для классификации\n",
    "texts_labels = []\n",
    "\n",
    "for i in proccesed_texts:\n",
    "    texts.append(i)\n",
    "    \n",
    "for i in classes_list:\n",
    "    texts_labels.append(i.journal)\n",
    "\n",
    "\n",
    "\n",
    "\n",
    "\n",
    "text_clf = Pipeline([\n",
    "    ('tfidf',TfidfVectorizer()),\n",
    "    ('clf', RandomForestClassifier(n_estimators=10))\n",
    "])\n",
    "    \n",
    "    \n",
    "text_clf.fit(texts, texts_labels)\n",
    "\n"
   ]
  },
  {
   "cell_type": "markdown",
   "metadata": {},
   "source": [
    "## Запуск прослушивания longpoll`a для общения с пользователем"
   ]
  },
  {
   "cell_type": "code",
   "execution_count": null,
   "metadata": {
    "scrolled": true
   },
   "outputs": [],
   "source": [
    "for event in longPoll.listen():\n",
    "\n",
    "    if event.type == VkEventType.MESSAGE_NEW and event.to_me:\n",
    "        print('Message sent: ' + str(datetime.strftime(datetime.now(), \"%H:%M:%S\")))\n",
    "        response = event.text.lower()\n",
    "        keyboard = create_keyboard(response)\n",
    "        doc = event.attachments\n",
    "        print(doc)\n",
    "        print(response)\n",
    "\n",
    "        if doc != {}:\n",
    "            doc_info = vk_session.method(\n",
    "                'messages.getById',\n",
    "                {\n",
    "                    'message_ids': event.message_id,\n",
    "                }\n",
    "\n",
    "            )\n",
    "            try:\n",
    "                url = doc_info['items'][0]['attachments'][0]['doc']['url']\n",
    "                download = requests.get(url)\n",
    "                target = download.text.encode('latin1').decode('cp1251')\n",
    "                tokenized_target = Text_proccesor.tokenize(target)\n",
    "                no_stopwords_target = Text_proccesor.stopwords_remove(tokenized_target)\n",
    "                proccesed_target =(' '.join(Text_proccesor.lemmatize(no_stopwords_target)))\n",
    "                result = text_clf.predict([proccesed_target])\n",
    "                wordcloud_gen(proccesed_target)\n",
    "                print (result)\n",
    "                vk_session.method(\n",
    "                'messages.send',\n",
    "                {\n",
    "                    'user_id': event.user_id,\n",
    "                    'message': result,\n",
    "                    'random_id': random.randint(1, 2800000),\n",
    "                    'keyboard': keyboard\n",
    "                }\n",
    "            )\n",
    "                \n",
    "            except:\n",
    "                print('error')\n",
    "                vk_session.method(\n",
    "                'messages.send',\n",
    "                {\n",
    "                    'user_id': event.user_id,\n",
    "                    'message': 'Произошла ошибка при обработке статьи, проверьте загружаемый документ в соответсвии с требованиями системы',\n",
    "                    'random_id': random.randint(1, 2800000),\n",
    "                    'keyboard': keyboard\n",
    "                }\n",
    "            )\n",
    "\n",
    "\n",
    "        elif response == 'начать':\n",
    "            vk_session.method(\n",
    "                'messages.send',\n",
    "                {\n",
    "                    'user_id': event.user_id,\n",
    "                    'message': 'Вас приветствует автоматическая рекомендательная система МАН, чтобы получить подробную инструкцию нажмите кнопку «Инфо» на клавиатуре',\n",
    "                    'random_id': random.randint(1, 2800000),\n",
    "                    'keyboard': keyboard\n",
    "                }\n",
    "            )\n",
    "\n",
    "        elif response == 'отправить статью':\n",
    "            vk_session.method(\n",
    "                'messages.send',\n",
    "                {\n",
    "                    'user_id': event.user_id,\n",
    "                    'message': 'Чтобы получить корректный результат - необходимо поместить основной текст статьи в файл формата .txt и отправить в данный диалог, как вложение.',\n",
    "                    'random_id': random.randint(1, 2800000),\n",
    "                }\n",
    "            )\n",
    "            \n",
    "        elif response == 'инфо':\n",
    "            vk_session.method(\n",
    "                'messages.send',\n",
    "                {\n",
    "                'user_id': event.user_id,\n",
    "                'message': 'Данное программное обеспечение позволяет получить реккомендацию по размещению статьи в том или ином журнале',\n",
    "                'random_id': random.randint(1, 2800000),  \n",
    "            }\n",
    "        )\n",
    "\n",
    "        else:\n",
    "            vk_session.method(\n",
    "                'messages.send',\n",
    "                {\n",
    "                    'user_id': event.user_id,\n",
    "                    'message': 'Пожалуйста, воспользуйтесь клавиатурой для взаимодействия с ботом, если по какой-то причине клавиатура не отобразилась напишите собщение с текстом «Начать»',\n",
    "                    'random_id': random.randint(1, 2800000)\n",
    "                }\n",
    "            )\n"
   ]
  }
 ],
 "metadata": {
  "kernelspec": {
   "display_name": "Python 3",
   "language": "python",
   "name": "python3"
  },
  "language_info": {
   "codemirror_mode": {
    "name": "ipython",
    "version": 3
   },
   "file_extension": ".py",
   "mimetype": "text/x-python",
   "name": "python",
   "nbconvert_exporter": "python",
   "pygments_lexer": "ipython3",
   "version": "3.7.7"
  }
 },
 "nbformat": 4,
 "nbformat_minor": 2
}

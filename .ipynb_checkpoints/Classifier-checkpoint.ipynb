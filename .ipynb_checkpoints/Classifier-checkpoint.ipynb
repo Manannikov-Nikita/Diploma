{
 "cells": [
  {
   "cell_type": "markdown",
   "metadata": {},
   "source": [
    "# Мананников Н.Д."
   ]
  },
  {
   "cell_type": "markdown",
   "metadata": {},
   "source": [
    "## Импорт"
   ]
  },
  {
   "cell_type": "code",
   "execution_count": 69,
   "metadata": {},
   "outputs": [],
   "source": [
    "from sklearn.feature_extraction.text import TfidfVectorizer\n",
    "from sklearn.ensemble import RandomForestClassifier\n",
    "from sklearn.pipeline import Pipeline\n",
    "from os import listdir\n",
    "from pymorphy2 import MorphAnalyzer\n",
    "\n",
    "import glob\n",
    "import re\n",
    "import warnings\n",
    "\n",
    "warnings.simplefilter(action='ignore', category=FutureWarning)\n"
   ]
  },
  {
   "cell_type": "markdown",
   "metadata": {},
   "source": [
    "## Создание классов"
   ]
  },
  {
   "cell_type": "code",
   "execution_count": 70,
   "metadata": {},
   "outputs": [],
   "source": [
    "#Создаем класс с двумя параметрами(текстом и категорией)\n",
    "\n",
    "class Text:\n",
    "    \n",
    "    text = ''\n",
    "    category = ''\n",
    "    \n",
    "    def __init__(self, text, category):\n",
    "        self.text = text\n",
    "        self.category = category\n",
    "\n",
    "        \n",
    "    "
   ]
  },
  {
   "cell_type": "markdown",
   "metadata": {},
   "source": [
    "# Подготовка данных для классификации"
   ]
  },
  {
   "cell_type": "code",
   "execution_count": 71,
   "metadata": {
    "scrolled": true
   },
   "outputs": [],
   "source": [
    "#Указываем директорию и получаем список всех ее файлов\n",
    "\n",
    "all_files = glob.glob('D:/Repo/Diploma/Data/Test/*.txt')\n",
    "\n",
    "#Инициализируем список, в котором будут храниться все объекты класса текст.\n",
    "classes_list = []\n",
    "texts = []\n",
    "\n",
    "\n",
    "#Проходимся по списку путей, открываем каждый файл для чтения\n",
    "for file in all_files:\n",
    "    opened_file = open(file,'r')\n",
    "    \n",
    "    #Для каждого открытого файла инициализируем объект класса Text, в переменную text кладем \n",
    "    #текст документа, а в переменную category - ЗАГЛУШКУ\n",
    "    classes_list.append(Text(opened_file.read().lower(),'category'))"
   ]
  },
  {
   "cell_type": "markdown",
   "metadata": {},
   "source": [
    "## Процесс классификации"
   ]
  },
  {
   "cell_type": "code",
   "execution_count": 72,
   "metadata": {},
   "outputs": [
    {
     "name": "stdout",
     "output_type": "stream",
     "text": [
      "['первый простой текст про компьютеры и сети.', 'второй простой текст про политику', 'третий большой текст про спорт']\n",
      "[2]\n"
     ]
    }
   ],
   "source": [
    "#Переносим тексты из объектов класса Text в список для классификации\n",
    "for i in classes_list:\n",
    "    texts.append(i.text)\n",
    "\n",
    "\n",
    "texts_labels = [1,2,3]\n",
    "\n",
    "text_clf = Pipeline([\n",
    "    ('tfidf',TfidfVectorizer()),\n",
    "    ('clf', RandomForestClassifier())\n",
    "])\n",
    "\n",
    "text_clf.fit(texts, texts_labels)\n",
    "\n",
    "result = text_clf.predict(['второй простой текст про политику'])\n",
    "print(result)\n",
    "\n",
    "# Обнуляем список текстов чтобы избежать ошибок при рестарте программы\n",
    "texts = []  "
   ]
  },
  {
   "cell_type": "code",
   "execution_count": null,
   "metadata": {},
   "outputs": [],
   "source": []
  }
 ],
 "metadata": {
  "kernelspec": {
   "display_name": "Python 3",
   "language": "python",
   "name": "python3"
  },
  "language_info": {
   "codemirror_mode": {
    "name": "ipython",
    "version": 3
   },
   "file_extension": ".py",
   "mimetype": "text/x-python",
   "name": "python",
   "nbconvert_exporter": "python",
   "pygments_lexer": "ipython3",
   "version": "3.7.4"
  }
 },
 "nbformat": 4,
 "nbformat_minor": 2
}

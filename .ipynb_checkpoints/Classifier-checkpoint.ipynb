{
 "cells": [
  {
   "cell_type": "code",
   "execution_count": 46,
   "metadata": {},
   "outputs": [],
   "source": [
    "from sklearn.feature_extraction.text import TfidfVectorizer\n",
    "from sklearn.ensemble import RandomForestClassifier\n",
    "from sklearn.pipeline import Pipeline\n",
    "from os import listdir\n",
    "import glob\n"
   ]
  },
  {
   "cell_type": "code",
   "execution_count": null,
   "metadata": {},
   "outputs": [],
   "source": []
  },
  {
   "cell_type": "code",
   "execution_count": 47,
   "metadata": {},
   "outputs": [],
   "source": [
    "#Создаем класс с двумя параметрами(текстом и категорией)\n",
    "\n",
    "class Text:\n",
    "    \n",
    "    text = ''\n",
    "    category = ''\n",
    "    \n",
    "    def __init__(self, text, category):\n",
    "        self.text = text\n",
    "        self.category = category\n"
   ]
  },
  {
   "cell_type": "code",
   "execution_count": 74,
   "metadata": {},
   "outputs": [
    {
     "name": "stdout",
     "output_type": "stream",
     "text": [
      "['D:/Repo/Diploma/Data/Test\\\\politics.txt', 'D:/Repo/Diploma/Data/Test\\\\sience.txt', 'D:/Repo/Diploma/Data/Test\\\\sports.txt']\n"
     ]
    }
   ],
   "source": [
    "#Указываем директорию и получаем список всех ее файлов\n",
    "\n",
    "all_files = glob.glob('D:/Repo/Diploma/Data/Test/*.txt')\n",
    "print (all_files)\n",
    "\n",
    "#Инициализируем список, в котором будут храниться все объекты класса текст.\n",
    "classes_list = []\n",
    "\n",
    "#Проходим по списку всех файлов в директории\n",
    "\n",
    "for file in all_files:\n",
    "    opened_file = open(file,'r')\n",
    "    classes_list.append(Text(loh.read(),'category'))\n",
    "\n",
    "\n",
    "    \n"
   ]
  },
  {
   "cell_type": "code",
   "execution_count": 62,
   "metadata": {},
   "outputs": [
    {
     "name": "stdout",
     "output_type": "stream",
     "text": [
      "[0]\n"
     ]
    },
    {
     "name": "stderr",
     "output_type": "stream",
     "text": [
      "E:\\Code\\Anaconda\\lib\\site-packages\\sklearn\\ensemble\\forest.py:245: FutureWarning: The default value of n_estimators will change from 10 in version 0.20 to 100 in 0.22.\n",
      "  \"10 in version 0.20 to 100 in 0.22.\", FutureWarning)\n"
     ]
    }
   ],
   "source": [
    "texts = ['текст один', 'текст два', 'компьютерные сети и технологии', 'модели машинного обучения']\n",
    "texts_labels = [1,1,0,0]\n",
    "\n",
    "text_clf = Pipeline([\n",
    "    ('tfidf',TfidfVectorizer()),\n",
    "    ('clf', RandomForestClassifier())\n",
    "])\n",
    "\n",
    "text_clf.fit(texts, texts_labels)\n",
    "\n",
    "result = text_clf.predict(['текст про компьютерные сети и технологи'])\n",
    "print(result)"
   ]
  }
 ],
 "metadata": {
  "kernelspec": {
   "display_name": "Python 3",
   "language": "python",
   "name": "python3"
  },
  "language_info": {
   "codemirror_mode": {
    "name": "ipython",
    "version": 3
   },
   "file_extension": ".py",
   "mimetype": "text/x-python",
   "name": "python",
   "nbconvert_exporter": "python",
   "pygments_lexer": "ipython3",
   "version": "3.7.4"
  }
 },
 "nbformat": 4,
 "nbformat_minor": 2
}

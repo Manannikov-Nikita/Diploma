{
 "cells": [
  {
   "cell_type": "code",
   "execution_count": 4,
   "metadata": {},
   "outputs": [],
   "source": [
    "from bs4 import BeautifulSoup\n",
    "import requests"
   ]
  },
  {
   "cell_type": "code",
   "execution_count": 5,
   "metadata": {},
   "outputs": [],
   "source": [
    "class SoaupParser(object):\n",
    "    \n",
    "    def test_url(url):\n",
    "        page = requests.get(url)\n",
    "        print(page.status_code)\n",
    "        \n",
    "    def parse_headers(url):\n",
    "        headers = []\n",
    "        page = requests.get(url)\n",
    "        soup = BeautifulSoup(page.text, 'html5lib')\n",
    "        headers = soup.findAll('h2', class_='specified-title')\n",
    "        return headers\n",
    "    "
   ]
  },
  {
   "cell_type": "code",
   "execution_count": 6,
   "metadata": {},
   "outputs": [
    {
     "data": {
      "text/plain": [
       "[<h2 class=\"specified-title clamp__visible-tokens\" itemprop=\"headline\">В \"Дачном ответе\" нарисовали камин и двери маркером, хозяйка чуть не заплакала от горя</h2>,\n",
       " <h2 class=\"specified-title clamp__visible-tokens\" itemprop=\"headline\">Тест на грамотность: сколько ошибок вы допустите?</h2>,\n",
       " <h2 class=\"specified-title clamp__visible-tokens\" itemprop=\"headline\">Как легко и просто очистить засаленный воротник пуховика без стирки. Проверил несколько средств и нашел для себя лучшее.</h2>,\n",
       " <h2 class=\"specified-title clamp__visible-tokens\" itemprop=\"headline\">Меган Маркл выложила фотографию, снятую до свадьбы с принцем Гарри</h2>,\n",
       " <h2 class=\"specified-title clamp__visible-tokens\" itemprop=\"headline\">7 немодных брюк, которые до сих пор носят все женщины, и классные замены</h2>,\n",
       " <h2 class=\"specified-title clamp__visible-tokens\" itemprop=\"headline\">На турецком базаре друг купил безымянный десерт, который я никогда не пробовал. Показываю, что внутри коробки📦❓🤔</h2>,\n",
       " <h2 class=\"specified-title clamp__visible-tokens\" itemprop=\"headline\">Как телеканалы достают статистику, если наши телевизоры не передают им информацию?</h2>,\n",
       " <h2 class=\"specified-title clamp__visible-tokens\" itemprop=\"headline\">В лесу нашёл старый сарай с ящиками гильз от «Калаша». Повезло так повезло 🏚👀😮</h2>,\n",
       " <h2 class=\"specified-title clamp__visible-tokens\" itemprop=\"headline\">Откуда на фотографии столетней давности дноуглубительный земснаряд? Фейк или правда, попробуем разобраться?</h2>]"
      ]
     },
     "execution_count": 6,
     "metadata": {},
     "output_type": "execute_result"
    }
   ],
   "source": [
    "SoaupParser.parse_headers('https://zen.yandex.ru/')"
   ]
  },
  {
   "cell_type": "code",
   "execution_count": null,
   "metadata": {},
   "outputs": [],
   "source": []
  }
 ],
 "metadata": {
  "kernelspec": {
   "display_name": "Python 3",
   "language": "python",
   "name": "python3"
  },
  "language_info": {
   "codemirror_mode": {
    "name": "ipython",
    "version": 3
   },
   "file_extension": ".py",
   "mimetype": "text/x-python",
   "name": "python",
   "nbconvert_exporter": "python",
   "pygments_lexer": "ipython3",
   "version": "3.7.4"
  }
 },
 "nbformat": 4,
 "nbformat_minor": 2
}

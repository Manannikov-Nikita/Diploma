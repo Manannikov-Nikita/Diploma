{
 "cells": [
  {
   "cell_type": "markdown",
   "metadata": {},
   "source": [
    "# Мананников Н.Д."
   ]
  },
  {
   "cell_type": "markdown",
   "metadata": {},
   "source": [
    "## Импорт библиотек для работы бота с API Вконтакте"
   ]
  },
  {
   "cell_type": "code",
   "execution_count": 1,
   "metadata": {},
   "outputs": [],
   "source": [
    "import vk_api\n",
    "import random\n",
    "import requests\n",
    "from datetime import datetime\n",
    "from vk_api.longpoll import VkLongPoll, VkEventType\n",
    "from vk_api.keyboard import VkKeyboard, VkKeyboardColor"
   ]
  },
  {
   "cell_type": "markdown",
   "metadata": {},
   "source": [
    "## Импорт библиотек для процесса обучения модели и классификации"
   ]
  },
  {
   "cell_type": "code",
   "execution_count": 2,
   "metadata": {},
   "outputs": [],
   "source": [
    "from sklearn.feature_extraction.text import TfidfVectorizer\n",
    "from sklearn.ensemble import RandomForestClassifier\n",
    "from sklearn.pipeline import Pipeline\n",
    "from pymorphy2 import MorphAnalyzer\n",
    "\n",
    "import glob\n",
    "import re\n",
    "import warnings\n",
    "import pandas\n",
    "\n",
    "warnings.simplefilter(action='ignore', category=FutureWarning)"
   ]
  },
  {
   "cell_type": "markdown",
   "metadata": {},
   "source": [
    "## Объявление переменных необходимх для работы с API"
   ]
  },
  {
   "cell_type": "code",
   "execution_count": 3,
   "metadata": {},
   "outputs": [],
   "source": [
    "vk_session = vk_api.VkApi(token='12153e7f74d0c0257192e7f5b525f894cfd507168976a15b0d3490235ff76bd85b2a6fa05b42f9cd6737b')\n",
    "\n",
    "longPoll = VkLongPoll(vk_session)\n",
    "vk = vk_session.get_api()"
   ]
  },
  {
   "cell_type": "markdown",
   "metadata": {},
   "source": [
    "## Объявление переменных для классификатора"
   ]
  },
  {
   "cell_type": "code",
   "execution_count": 4,
   "metadata": {},
   "outputs": [],
   "source": [
    "classes_list = []\n",
    "proccesed_texts = []\n",
    "texts = []\n",
    "results = [0,0,0]\n",
    "m = MorphAnalyzer()\n",
    "regex = re.compile(\"[А-Яа-я]+\")"
   ]
  },
  {
   "cell_type": "markdown",
   "metadata": {},
   "source": [
    "### Корпус стоп-слов"
   ]
  },
  {
   "cell_type": "code",
   "execution_count": 5,
   "metadata": {},
   "outputs": [],
   "source": [
    "stopwords = ['и', 'в', 'во', 'не', 'что', 'он', 'на', 'я', 'с', 'со', 'как', 'а', 'то', 'все', 'она', 'так',\n",
    "              'его', 'но', 'да', 'ты', 'к', 'у', 'же', 'вы', 'за', 'бы', 'по', 'только', 'ее', 'мне', 'было', \n",
    "              'вот', 'от', 'меня', 'еще', 'нет', 'о', 'из', 'ему', 'теперь', 'когда', 'даже', 'ну', 'вдруг', \n",
    "              'ли', 'если', 'уже', 'или', 'ни', 'быть', 'был', 'него', 'до', 'вас', 'нибудь', 'опять', 'уж',\n",
    "              'вам', 'ведь', 'там', 'потом', 'себя', 'ничего', 'ей', 'может', 'они', 'тут', 'где', 'есть', \n",
    "              'надо', 'ней', 'для', 'мы', 'тебя', 'их', 'чем', 'была', 'сам', 'чтоб', 'без', 'будто', 'чего',\n",
    "              'раз', 'тоже', 'себе', 'под', 'будет', 'ж', 'тогда', 'кто', 'этот', 'того', 'потому', 'этого',\n",
    "              'какой', 'совсем', 'ним', 'здесь', 'этом', 'один', 'почти', 'мой', 'тем', 'чтобы', 'нее', 'сейчас',\n",
    "              'были', 'куда', 'зачем', 'всех', 'никогда', 'можно', 'при', 'наконец', 'два', 'об', 'другой', 'хоть',\n",
    "              'после', 'над', 'больше', 'тот', 'через', 'эти', 'нас', 'про', 'всего', 'них', 'какая', 'много',\n",
    "              'разве', 'три', 'эту', 'моя', 'впрочем', 'хорошо', 'свою', 'этой', 'перед', 'иногда', 'лучше', \n",
    "              'чуть', 'том', 'нельзя', 'такой', 'им', 'более', 'всегда', 'конечно', 'всю', 'между']"
   ]
  },
  {
   "cell_type": "markdown",
   "metadata": {},
   "source": [
    "## Создание классов для работы с текстами"
   ]
  },
  {
   "cell_type": "code",
   "execution_count": 6,
   "metadata": {},
   "outputs": [],
   "source": [
    "class Text:\n",
    "    \n",
    "    text = ''\n",
    "    journal = ''\n",
    "    \n",
    "    def __init__(self, text, journal):\n",
    "        self.text = text\n",
    "        self.journal = journal"
   ]
  },
  {
   "cell_type": "code",
   "execution_count": 7,
   "metadata": {},
   "outputs": [],
   "source": [
    "class Text_proccesor:\n",
    "    \n",
    "    proccesed_text = ''\n",
    "    \n",
    "    def tokenize(text, regex=regex):\n",
    "        proccesed_text = \" \".join(regex.findall(text))\n",
    "        proccesed_text = proccesed_text.lower()\n",
    "        return(proccesed_text)\n",
    "\n",
    "    \n",
    "    def lemmatize(text):\n",
    "        proccesed_text = [m.parse(word)[0].normal_form for word in text.split()]\n",
    "        return(proccesed_text)\n",
    "    \n",
    "    def stopwords_remove(text):\n",
    "        proccesed_text = ' '.join([token for token in text.split() if not token in stopwords])\n",
    "        return(proccesed_text) "
   ]
  },
  {
   "cell_type": "markdown",
   "metadata": {},
   "source": [
    "### Функция создания интерфейса клавиатуры для бота ВКонтакте"
   ]
  },
  {
   "cell_type": "code",
   "execution_count": 8,
   "metadata": {},
   "outputs": [],
   "source": [
    "def create_keyboard(response):\n",
    "    if response == 'начать':\n",
    "        keyboard = VkKeyboard(one_time=False)\n",
    "\n",
    "        keyboard.add_button('Отправить статью', color=VkKeyboardColor.POSITIVE)\n",
    "        keyboard.add_line()\n",
    "        keyboard.add_button('Список команд', color=VkKeyboardColor.DEFAULT)\n",
    "        keyboard.add_button('Инфо', color=VkKeyboardColor.DEFAULT)\n",
    "\n",
    "        keyboard = keyboard.get_keyboard()\n",
    "        return keyboard"
   ]
  },
  {
   "cell_type": "markdown",
   "metadata": {},
   "source": [
    "## Обучение модели"
   ]
  },
  {
   "cell_type": "markdown",
   "metadata": {},
   "source": [
    "### Получение обучающего корпуса из файлов."
   ]
  },
  {
   "cell_type": "code",
   "execution_count": 9,
   "metadata": {},
   "outputs": [],
   "source": [
    "#Указываем директорию и получаем список всех ее файлов\n",
    "all_files = glob.glob('D:/Repo/Diploma/Data/Test/*.txt')\n",
    "\n",
    "#Проходимся по списку путей, открываем каждый файл для чтения\n",
    "for file in all_files:\n",
    "    opened_file = open(file,'r')\n",
    "    journal = next(opened_file)\n",
    "    text = opened_file.read()\n",
    "    \n",
    "    #Для каждого открытого файла инициализируем объект класса Text, в переменную text кладем \n",
    "    #текст документа, а в переменную category - ЗАГЛУШКУ\n",
    "    classes_list.append(Text(text,journal))"
   ]
  },
  {
   "cell_type": "markdown",
   "metadata": {},
   "source": [
    "### Очистка обучающих данных"
   ]
  },
  {
   "cell_type": "code",
   "execution_count": 10,
   "metadata": {},
   "outputs": [],
   "source": [
    "for text in classes_list:\n",
    "    tokenized_text = Text_proccesor.tokenize(text.text)\n",
    "    no_stopwords = Text_proccesor.stopwords_remove(tokenized_text)\n",
    "    proccesed_texts.append(' '.join(Text_proccesor.lemmatize(no_stopwords)))"
   ]
  },
  {
   "cell_type": "markdown",
   "metadata": {},
   "source": [
    "### Непосредственное обучение модели"
   ]
  },
  {
   "cell_type": "code",
   "execution_count": 11,
   "metadata": {},
   "outputs": [],
   "source": [
    "#Переносим тексты из объектов класса Text в список для классификации\n",
    "texts_labels = []\n",
    "\n",
    "for i in proccesed_texts:\n",
    "    texts.append(i)\n",
    "    \n",
    "for i in classes_list:\n",
    "    texts_labels.append(i.journal)\n",
    "\n",
    "\n",
    "\n",
    "for i in range(100):\n",
    "\n",
    "    text_clf = Pipeline([\n",
    "        ('tfidf',TfidfVectorizer()),\n",
    "        ('clf', RandomForestClassifier())\n",
    "    ])\n",
    "\n",
    "    text_clf.fit(texts, texts_labels)"
   ]
  },
  {
   "cell_type": "markdown",
   "metadata": {},
   "source": [
    "## Запуск прослушивания longpoll`a для общения с пользователем"
   ]
  },
  {
   "cell_type": "code",
   "execution_count": 12,
   "metadata": {
    "scrolled": true
   },
   "outputs": [
    {
     "name": "stdout",
     "output_type": "stream",
     "text": [
      "Message sent: 21:19:03\n",
      "{}\n",
      "отправить статью\n",
      "Message sent: 21:19:08\n",
      "{'attach1_type': 'doc', 'attach1': '163458875_538840180'}\n",
      "\n",
      "['Format: Педагогика\\n']\n",
      "Message sent: 21:19:15\n",
      "{'attach1_type': 'doc', 'attach1': '163458875_538840198'}\n",
      "\n",
      "['Format.Техника и технологии\\n']\n",
      "Message sent: 21:19:19\n",
      "{'attach1_type': 'doc', 'attach1': '163458875_538840214'}\n",
      "\n",
      "['Спорт\\n']\n",
      "Message sent: 21:20:23\n",
      "{}\n",
      "список команд\n",
      "Message sent: 21:20:29\n",
      "{}\n",
      "инфо\n",
      "Message sent: 21:20:34\n",
      "{}\n",
      "отправить статью\n",
      "Message sent: 21:20:38\n",
      "{'attach1_product_id': '437', 'attach1_type': 'sticker', 'attach1': '15147', 'attach1_kind': 'animation', 'attachments': '[{\"type\":\"sticker\",\"sticker\":{\"images\":[{\"height\":64,\"url\":\"https://vk.com/sticker/1-15147-64\",\"width\":64},{\"height\":128,\"url\":\"https://vk.com/sticker/1-15147-128\",\"width\":128},{\"height\":256,\"url\":\"https://vk.com/sticker/1-15147-256\",\"width\":256},{\"height\":352,\"url\":\"https://vk.com/sticker/1-15147-352\",\"width\":352},{\"height\":512,\"url\":\"https://vk.com/sticker/1-15147-512\",\"width\":512}],\"images_with_background\":[{\"height\":64,\"url\":\"https://vk.com/sticker/1-15147-64b\",\"width\":64},{\"height\":128,\"url\":\"https://vk.com/sticker/1-15147-128b\",\"width\":128},{\"height\":256,\"url\":\"https://vk.com/sticker/1-15147-256b\",\"width\":256},{\"height\":352,\"url\":\"https://vk.com/sticker/1-15147-352b\",\"width\":352},{\"height\":512,\"url\":\"https://vk.com/sticker/1-15147-512b\",\"width\":512}],\"product_id\":437,\"sticker_id\":15147,\"animation_url\":\"https://vk.com/sticker/3-15147-0.json\",\"animations\":[{\"type\":\"light\",\"url\":\"https://vk.com/sticker/3-15147-0.json\"},{\"type\":\"dark\",\"url\":\"https://vk.com/sticker/3-15147b-0.json\"}]}}]', 'attachments_count': '1'}\n",
      "\n"
     ]
    },
    {
     "ename": "KeyError",
     "evalue": "'doc'",
     "output_type": "error",
     "traceback": [
      "\u001b[1;31m---------------------------------------------------------------------------\u001b[0m",
      "\u001b[1;31mKeyError\u001b[0m                                  Traceback (most recent call last)",
      "\u001b[1;32m<ipython-input-12-6341a0fa617c>\u001b[0m in \u001b[0;36m<module>\u001b[1;34m\u001b[0m\n\u001b[0;32m     17\u001b[0m \u001b[1;33m\u001b[0m\u001b[0m\n\u001b[0;32m     18\u001b[0m             )\n\u001b[1;32m---> 19\u001b[1;33m             \u001b[0murl\u001b[0m \u001b[1;33m=\u001b[0m \u001b[0mdoc_info\u001b[0m\u001b[1;33m[\u001b[0m\u001b[1;34m'items'\u001b[0m\u001b[1;33m]\u001b[0m\u001b[1;33m[\u001b[0m\u001b[1;36m0\u001b[0m\u001b[1;33m]\u001b[0m\u001b[1;33m[\u001b[0m\u001b[1;34m'attachments'\u001b[0m\u001b[1;33m]\u001b[0m\u001b[1;33m[\u001b[0m\u001b[1;36m0\u001b[0m\u001b[1;33m]\u001b[0m\u001b[1;33m[\u001b[0m\u001b[1;34m'doc'\u001b[0m\u001b[1;33m]\u001b[0m\u001b[1;33m[\u001b[0m\u001b[1;34m'url'\u001b[0m\u001b[1;33m]\u001b[0m\u001b[1;33m\u001b[0m\u001b[1;33m\u001b[0m\u001b[0m\n\u001b[0m\u001b[0;32m     20\u001b[0m             \u001b[0mdownload\u001b[0m \u001b[1;33m=\u001b[0m \u001b[0mrequests\u001b[0m\u001b[1;33m.\u001b[0m\u001b[0mget\u001b[0m\u001b[1;33m(\u001b[0m\u001b[0murl\u001b[0m\u001b[1;33m)\u001b[0m\u001b[1;33m\u001b[0m\u001b[1;33m\u001b[0m\u001b[0m\n\u001b[0;32m     21\u001b[0m             \u001b[1;32mtry\u001b[0m\u001b[1;33m:\u001b[0m\u001b[1;33m\u001b[0m\u001b[1;33m\u001b[0m\u001b[0m\n",
      "\u001b[1;31mKeyError\u001b[0m: 'doc'"
     ]
    }
   ],
   "source": [
    "for event in longPoll.listen():\n",
    "\n",
    "    if event.type == VkEventType.MESSAGE_NEW and event.to_me:\n",
    "        print('Message sent: ' + str(datetime.strftime(datetime.now(), \"%H:%M:%S\")))\n",
    "        response = event.text.lower()\n",
    "        keyboard = create_keyboard(response)\n",
    "        doc = event.attachments\n",
    "        print(doc)\n",
    "        print(response)\n",
    "\n",
    "        if doc != {}:\n",
    "            doc_info = vk_session.method(\n",
    "                'messages.getById',\n",
    "                {\n",
    "                    'message_ids': event.message_id,\n",
    "                }\n",
    "\n",
    "            )\n",
    "            url = doc_info['items'][0]['attachments'][0]['doc']['url']\n",
    "            download = requests.get(url)\n",
    "            try:\n",
    "                target = download.text.encode('latin1').decode('cp1251')\n",
    "                tokenized_target = Text_proccesor.tokenize(target)\n",
    "                no_stopwords_target = Text_proccesor.stopwords_remove(tokenized_target)\n",
    "                proccesed_target =(' '.join(Text_proccesor.lemmatize(no_stopwords_target)))\n",
    "                result = text_clf.predict([proccesed_target])\n",
    "                print (result)\n",
    "                vk_session.method(\n",
    "                'messages.send',\n",
    "                {\n",
    "                    'user_id': event.user_id,\n",
    "                    'message': result,\n",
    "                    'random_id': random.randint(1, 2800000),\n",
    "                    'keyboard': keyboard\n",
    "                }\n",
    "            )\n",
    "                \n",
    "            except:\n",
    "                print('error')\n",
    "                vk_session.method(\n",
    "                'messages.send',\n",
    "                {\n",
    "                    'user_id': event.user_id,\n",
    "                    'message': 'Произошла ошибка при обработке статьи, проверьте загружаемый документ в соответсвии с требованиями системы',\n",
    "                    'random_id': random.randint(1, 2800000),\n",
    "                    'keyboard': keyboard\n",
    "                }\n",
    "            )\n",
    "\n",
    "\n",
    "        elif response == 'начать':\n",
    "            vk_session.method(\n",
    "                'messages.send',\n",
    "                {\n",
    "                    'user_id': event.user_id,\n",
    "                    'message': 'Вас приветствует автоматическая рекомендательная система МАН, чтобы получить подробную инструкцию нажмите кнопку «Инфо» на клавиатуре',\n",
    "                    'random_id': random.randint(1, 2800000),\n",
    "                    'keyboard': keyboard\n",
    "                }\n",
    "            )\n",
    "\n",
    "        elif response == 'отправить статью':\n",
    "            vk_session.method(\n",
    "                'messages.send',\n",
    "                {\n",
    "                    'user_id': event.user_id,\n",
    "                    'message': 'Чтобы получить корректный результат - необходимо поместить основной текст статьи в файл формата .txt и отправить в данный диалог, как вложение.',\n",
    "                    'random_id': random.randint(1, 2800000),\n",
    "                }\n",
    "            )\n",
    "            \n",
    "        elif response == 'инфо':\n",
    "            vk_session.method(\n",
    "                'messages.send',\n",
    "                {\n",
    "                'user_id': event.user_id,\n",
    "                'message': 'Данное программное обеспечение позволяет получить реккомендацию по размещению статьи в том или ином журнале',\n",
    "                'random_id': random.randint(1, 2800000),  \n",
    "            }\n",
    "        )\n",
    "\n",
    "        else:\n",
    "            vk_session.method(\n",
    "                'messages.send',\n",
    "                {\n",
    "                    'user_id': event.user_id,\n",
    "                    'message': 'Пожалуйста, воспользуйтесь клавиатурой для взаимодействия с ботом, если по какой-то причине клавиатура не отобразилась напишите собщение с текстом «Начать»',\n",
    "                    'random_id': random.randint(1, 2800000)\n",
    "                }\n",
    "            )\n"
   ]
  },
  {
   "cell_type": "code",
   "execution_count": null,
   "metadata": {},
   "outputs": [],
   "source": []
  }
 ],
 "metadata": {
  "kernelspec": {
   "display_name": "Python 3",
   "language": "python",
   "name": "python3"
  },
  "language_info": {
   "codemirror_mode": {
    "name": "ipython",
    "version": 3
   },
   "file_extension": ".py",
   "mimetype": "text/x-python",
   "name": "python",
   "nbconvert_exporter": "python",
   "pygments_lexer": "ipython3",
   "version": "3.7.4"
  }
 },
 "nbformat": 4,
 "nbformat_minor": 2
}
